{
 "cells": [
  {
   "cell_type": "code",
   "execution_count": 4,
   "id": "3d6f5517",
   "metadata": {},
   "outputs": [
    {
     "name": "stdout",
     "output_type": "stream",
     "text": [
      "Enter the any letter : I\n",
      "This is a vowel :  I\n"
     ]
    }
   ],
   "source": [
    "a=input('Enter the any letter : ')\n",
    "b=a.lower()\n",
    "if (b=='a' or b=='e' or b=='i' or b=='o' or b=='u'):\n",
    "    print('This is a vowel : ',a)\n",
    "else:\n",
    "    print('This not vowel : ',a)"
   ]
  },
  {
   "cell_type": "code",
   "execution_count": null,
   "id": "b9f7ecc4",
   "metadata": {},
   "outputs": [],
   "source": [
    "\n",
    "    "
   ]
  },
  {
   "cell_type": "code",
   "execution_count": 10,
   "id": "ea818b95",
   "metadata": {},
   "outputs": [
    {
     "name": "stdout",
     "output_type": "stream",
     "text": [
      "Enter an alphabet to check: i\n",
      "The entered alphabet is:  Vowel\n"
     ]
    }
   ],
   "source": [
    "def switch(alphabet):\n",
    "    dict={\n",
    "        'a': 'Vowel',\n",
    "        'e': 'Vowel',\n",
    "        'i': 'Vowel',\n",
    "        'o': 'Vowel',\n",
    "        'u': 'Vowel',\n",
    "        'A': 'Vowel',\n",
    "        'E': 'Vowel',\n",
    "        'I': 'Vowel',\n",
    "        'O': 'Vowel',\n",
    "        'U': 'Vowel',\n",
    "    }\n",
    "    return dict.get(alphabet, 'Consonant')\n",
    "\n",
    "alphabet= input('Enter an alphabet to check: ')\n",
    "print('The entered alphabet is: ', switch(alphabet))"
   ]
  },
  {
   "cell_type": "code",
   "execution_count": null,
   "id": "bee446e3",
   "metadata": {},
   "outputs": [],
   "source": []
  }
 ],
 "metadata": {
  "kernelspec": {
   "display_name": "Python 3 (ipykernel)",
   "language": "python",
   "name": "python3"
  },
  "language_info": {
   "codemirror_mode": {
    "name": "ipython",
    "version": 3
   },
   "file_extension": ".py",
   "mimetype": "text/x-python",
   "name": "python",
   "nbconvert_exporter": "python",
   "pygments_lexer": "ipython3",
   "version": "3.9.7"
  }
 },
 "nbformat": 4,
 "nbformat_minor": 5
}
